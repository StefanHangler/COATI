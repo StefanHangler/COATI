{
 "cells": [
  {
   "cell_type": "code",
   "execution_count": 1,
   "metadata": {},
   "outputs": [
    {
     "name": "stdout",
     "output_type": "stream",
     "text": [
      "Collecting git+https://github.com/insilicomedicine/fcd_torch.git\n",
      "  Cloning https://github.com/insilicomedicine/fcd_torch.git to /private/var/folders/h5/sfz06yh5207339s992l9zwc80000gn/T/pip-req-build-4r3cwldi\n",
      "  Running command git clone --filter=blob:none --quiet https://github.com/insilicomedicine/fcd_torch.git /private/var/folders/h5/sfz06yh5207339s992l9zwc80000gn/T/pip-req-build-4r3cwldi\n",
      "  error: RPC failed; curl 18 transfer closed with outstanding read data remaining\n",
      "  fatal: the remote end hung up unexpectedly\n",
      "  fatal: early EOF\n",
      "  fatal: index-pack failed\n",
      "  warning: Clone succeeded, but checkout failed.\n",
      "  You can inspect what was checked out with 'git status'\n",
      "  and retry with 'git restore --source=HEAD :/'\n",
      "\n",
      "  \u001b[1;31merror\u001b[0m: \u001b[1msubprocess-exited-with-error\u001b[0m\n",
      "  \n",
      "  \u001b[31m×\u001b[0m \u001b[32mgit clone --\u001b[0m\u001b[32mfilter\u001b[0m\u001b[32m=\u001b[0m\u001b[32mblob\u001b[0m\u001b[32m:none --quiet \u001b[0m\u001b[4;32mhttps://github.com/insilicomedicine/fcd_torch.git\u001b[0m\u001b[32m \u001b[0m\u001b[32m/private/var/folders/h5/sfz06yh5207339s992l9zwc80000gn/T/\u001b[0m\u001b[32mpip-req-build-4r3cwldi\u001b[0m did not run successfully.\n",
      "  \u001b[31m│\u001b[0m exit code: \u001b[1;36m128\u001b[0m\n",
      "  \u001b[31m╰─>\u001b[0m See above for output.\n",
      "  \n",
      "  \u001b[1;35mnote\u001b[0m: This error originates from a subprocess, and is likely not a problem with pip.\n",
      "\u001b[1;31merror\u001b[0m: \u001b[1msubprocess-exited-with-error\u001b[0m\n",
      "\n",
      "\u001b[31m×\u001b[0m \u001b[32mgit clone --\u001b[0m\u001b[32mfilter\u001b[0m\u001b[32m=\u001b[0m\u001b[32mblob\u001b[0m\u001b[32m:none --quiet \u001b[0m\u001b[4;32mhttps://github.com/insilicomedicine/fcd_torch.git\u001b[0m\u001b[32m \u001b[0m\u001b[32m/private/var/folders/h5/sfz06yh5207339s992l9zwc80000gn/T/\u001b[0m\u001b[32mpip-req-build-4r3cwldi\u001b[0m did not run successfully.\n",
      "\u001b[31m│\u001b[0m exit code: \u001b[1;36m128\u001b[0m\n",
      "\u001b[31m╰─>\u001b[0m See above for output.\n",
      "\n",
      "\u001b[1;35mnote\u001b[0m: This error originates from a subprocess, and is likely not a problem with pip.\n"
     ]
    }
   ],
   "source": [
    "!pip install git+https://github.com/insilicomedicine/fcd_torch.git"
   ]
  },
  {
   "cell_type": "code",
   "execution_count": 5,
   "metadata": {},
   "outputs": [
    {
     "ename": "ModuleNotFoundError",
     "evalue": "No module named 'fcd_torch'",
     "output_type": "error",
     "traceback": [
      "\u001b[0;31m---------------------------------------------------------------------------\u001b[0m",
      "\u001b[0;31mModuleNotFoundError\u001b[0m                       Traceback (most recent call last)",
      "Cell \u001b[0;32mIn[5], line 6\u001b[0m\n\u001b[1;32m      2\u001b[0m \u001b[38;5;28;01mimport\u001b[39;00m \u001b[38;5;21;01mos\u001b[39;00m\n\u001b[1;32m      4\u001b[0m sys\u001b[38;5;241m.\u001b[39mpath\u001b[38;5;241m.\u001b[39mappend(os\u001b[38;5;241m.\u001b[39mpath\u001b[38;5;241m.\u001b[39mabspath(\u001b[38;5;124m\"\u001b[39m\u001b[38;5;124m/Users/stefanhangler/Documents/Uni/Msc_AI/3_Semester/Seminar_Practical Work/Code.nosync/COATI\u001b[39m\u001b[38;5;124m\"\u001b[39m))\n\u001b[0;32m----> 6\u001b[0m \u001b[38;5;28;01mfrom\u001b[39;00m \u001b[38;5;21;01mguacamol\u001b[39;00m\u001b[38;5;21;01m.\u001b[39;00m\u001b[38;5;21;01mevaluate_guacamol\u001b[39;00m \u001b[38;5;28;01mimport\u001b[39;00m evaluate_guacamol\n",
      "File \u001b[0;32m~/Documents/Uni/Msc_AI/3_Semester/Seminar_Practical Work/Code.nosync/COATI/guacamol/evaluate_guacamol.py:7\u001b[0m\n\u001b[1;32m      5\u001b[0m from rdkit import Chem\n\u001b[1;32m      6\u001b[0m from rdkit.Chem import AllChem\n\u001b[0;32m----> 7\u001b[0m from fcd_torch.fcd_torch.fcd import FCD\n\u001b[1;32m      8\u001b[0m from rdkit.Chem import rdmolfiles, rdmolops\n\u001b[1;32m      9\u001b[0m \n",
      "\u001b[0;31mModuleNotFoundError\u001b[0m: No module named 'fcd_torch'"
     ]
    }
   ],
   "source": [
    "import sys\n",
    "import os\n",
    "\n",
    "sys.path.append(os.path.abspath(\"/Users/stefanhangler/Documents/Uni/Msc_AI/3_Semester/Seminar_Practical Work/Code.nosync/COATI\"))\n",
    "\n",
    "from guacamol.evaluate_guacamol import evaluate_guacamol"
   ]
  },
  {
   "cell_type": "code",
   "execution_count": null,
   "metadata": {},
   "outputs": [],
   "source": []
  }
 ],
 "metadata": {
  "kernelspec": {
   "display_name": "DLNN1",
   "language": "python",
   "name": "python3"
  },
  "language_info": {
   "codemirror_mode": {
    "name": "ipython",
    "version": 3
   },
   "file_extension": ".py",
   "mimetype": "text/x-python",
   "name": "python",
   "nbconvert_exporter": "python",
   "pygments_lexer": "ipython3",
   "version": "3.10.6"
  }
 },
 "nbformat": 4,
 "nbformat_minor": 2
}
