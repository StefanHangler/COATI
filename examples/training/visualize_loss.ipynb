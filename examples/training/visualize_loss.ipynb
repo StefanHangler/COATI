{
 "cells": [
  {
   "cell_type": "code",
   "execution_count": null,
   "metadata": {},
   "outputs": [],
   "source": [
    "import matplotlib.pyplot as plt\n",
    "\n",
    "# Assuming offline_losses is a dictionary with logged losses\n",
    "epochs = list(range(len(offline_losses['batch_losses'])))\n",
    "\n",
    "plt.figure(figsize=(10, 5))\n",
    "plt.plot(epochs, offline_losses['batch_losses'], label='Training Loss')\n",
    "plt.plot(epochs, offline_losses['ar_losses'], label='AR Loss')\n",
    "if 'clip_losses' in offline_losses:\n",
    "    plt.plot(epochs, offline_losses['clip_losses'], label='Clip Loss')\n",
    "\n",
    "plt.xlabel('Epoch')\n",
    "plt.ylabel('Loss')\n",
    "plt.title('Training and Validation Losses')\n",
    "plt.legend()\n",
    "plt.show()"
   ]
  },
  {
   "cell_type": "code",
   "execution_count": 6,
   "metadata": {},
   "outputs": [
    {
     "name": "stdout",
     "output_type": "stream",
     "text": [
      "3_Semester/Seminar_Practical Work/Code.nosync/COATI/examples\n",
      "train_valid_test_guacamol.pkl\n",
      "Dataset file not found\n"
     ]
    },
    {
     "ename": "SystemExit",
     "evalue": "1",
     "output_type": "error",
     "traceback": [
      "An exception has occurred, use %tb to see the full traceback.\n",
      "\u001b[0;31mSystemExit\u001b[0m\u001b[0;31m:\u001b[0m 1\n"
     ]
    },
    {
     "name": "stderr",
     "output_type": "stream",
     "text": [
      "/Users/stefanhangler/opt/anaconda3/envs/DLNN1/lib/python3.10/site-packages/IPython/core/interactiveshell.py:3534: UserWarning: To exit: use 'exit', 'quit', or Ctrl-D.\n",
      "  warn(\"To exit: use 'exit', 'quit', or Ctrl-D.\", stacklevel=1)\n"
     ]
    }
   ],
   "source": [
    "import os\n",
    "import sys\n",
    "\n",
    "data_dir = \"./COATI/\"\n",
    "dataset_name = \"3_Semester/Seminar_Practical Work/Code.nosync/COATI/examples/train_valid_test_guacamol.pkl\"\n",
    "import os\n",
    "\n",
    "cache_dir, file_name = os.path.split(dataset_name)\n",
    "print(cache_dir)\n",
    "print(file_name)\n",
    "if not os.path.exists(data_dir + file_name):\n",
    "    print(\"Dataset file not found\")\n",
    "    sys.exit(1)"
   ]
  },
  {
   "cell_type": "code",
   "execution_count": null,
   "metadata": {},
   "outputs": [
    {
     "ename": "",
     "evalue": "",
     "output_type": "error",
     "traceback": [
      "\u001b[1;31mThe Kernel crashed while executing code in the current cell or a previous cell. \n",
      "\u001b[1;31mPlease review the code in the cell(s) to identify a possible cause of the failure. \n",
      "\u001b[1;31mClick <a href='https://aka.ms/vscodeJupyterKernelCrash'>here</a> for more info. \n",
      "\u001b[1;31mView Jupyter <a href='command:jupyter.viewOutput'>log</a> for further details."
     ]
    }
   ],
   "source": [
    "import os\n",
    "import pickle # Stefan\n",
    "from torch.utils.data.datapipes.iter import IterableWrapper # Stefan\n",
    "\n",
    "from coati.common.util import dir_or_file_exists"
   ]
  },
  {
   "cell_type": "code",
   "execution_count": 1,
   "metadata": {},
   "outputs": [],
   "source": [
    "class COATI_dataset:\n",
    "    def __init__(\n",
    "        self,\n",
    "        cache_dir,\n",
    "        fields=[\"smiles\", \"atoms\", \"coords\"],\n",
    "        test_split_mode=\"row\",\n",
    "        test_frac=0.02,  # in percent.\n",
    "        valid_frac=0.02,  # in percent.\n",
    "    ):\n",
    "        self.cache_dir = cache_dir\n",
    "        self.summary = {\"dataset_type\": \"coati\", \"fields\": fields}\n",
    "        self.test_frac = test_frac\n",
    "        self.fields = fields\n",
    "        self.valid_frac = valid_frac\n",
    "        assert int(test_frac * 100) >= 0 and int(test_frac * 100) <= 50\n",
    "        assert int(valid_frac * 100) >= 0 and int(valid_frac * 100) <= 50\n",
    "        assert int(valid_frac * 100 + test_frac * 100) < 50\n",
    "        self.test_split_mode = test_split_mode\n",
    "\n",
    "    def partition_routine(self, row):\n",
    "        \"\"\" \"\"\"\n",
    "        # if not \"mod_molecule\" in row:\n",
    "        #     tore = [\"raw\"]\n",
    "        #     tore.append(\"train\")\n",
    "        #     return tore\n",
    "        # else:\n",
    "        #     tore = [\"raw\"]\n",
    "\n",
    "        #     if row[\"mod_molecule\"] % 100 >= int(\n",
    "        #         (self.test_frac + self.valid_frac) * 100\n",
    "        #     ):\n",
    "        #         tore.append(\"train\")\n",
    "        #     elif row[\"mod_molecule\"] % 100 >= int((self.test_frac * 100)):\n",
    "        #         tore.append(\"valid\")\n",
    "        #     else:\n",
    "        #         tore.append(\"test\")\n",
    "\n",
    "        #     return tore\n",
    "        # Stefan --->\n",
    "        partition = row.get('partition', 'raw')\n",
    "        return [partition]\n",
    "\n",
    "    def get_data_pipe(\n",
    "        self,\n",
    "        rebuild=False,\n",
    "        batch_size=32,\n",
    "        partition: str = \"raw\",\n",
    "        required_fields=[],\n",
    "        distributed_rankmod_total=None,\n",
    "        distributed_rankmod_rank=1,\n",
    "        xform_routine=lambda X: X,\n",
    "    ):\n",
    "        \"\"\"\n",
    "        Look for the cache locally\n",
    "        then on s3 if it's not available locally\n",
    "        then return a pipe to the data.\n",
    "        \"\"\"\n",
    "        # print(f\"trying to open a {partition} datapipe for...\")\n",
    "        # if (\n",
    "        #     not dir_or_file_exists(os.path.join(self.cache_dir, S3_PATH, \"0.pkl\"))\n",
    "        # ) or rebuild:\n",
    "        #     makedir(self.cache_dir)\n",
    "        #     query_yes_no(\n",
    "        #         f\"Will download ~340 GB of data to {self.cache_dir} . This will take a while. Are you sure?\"\n",
    "        #     )\n",
    "        #     copy_bucket_dir_from_s3(S3_PATH, self.cache_dir)\n",
    "\n",
    "        # pipe = (\n",
    "        #     FileLister(\n",
    "        #         root=os.path.join(self.cache_dir, S3_PATH),\n",
    "        #         recursive=False,\n",
    "        #         masks=[\"*.pkl\"],\n",
    "        #     )\n",
    "        #     .shuffle()\n",
    "        #     .open_files(mode=\"rb\")\n",
    "        #     .unstack_pickles()\n",
    "        #     .unbatch()\n",
    "        #     .shuffle(buffer_size=200000)\n",
    "        # )\n",
    "        # pipe = pipe.ur_batcher(\n",
    "        #     batch_size=batch_size,\n",
    "        #     partition=partition,\n",
    "        #     xform_routine=xform_routine,\n",
    "        #     partition_routine=self.partition_routine,\n",
    "        #     distributed_rankmod_total=distributed_rankmod_total,\n",
    "        #     distributed_rankmod_rank=distributed_rankmod_rank,\n",
    "        #     direct_mode=False,\n",
    "        #     required_fields=self.fields,\n",
    "        # )\n",
    "        # return pipe\n",
    "\n",
    "        print(f\"trying to open a {partition} datapipe for...\")\n",
    "\n",
    "        # Path to your preprocessed pickle file\n",
    "        pickle_file = os.path.join(self.cache_dir, \"train_valid_test_guacamol.pkl\")\n",
    "\n",
    "        if not dir_or_file_exists(pickle_file):\n",
    "            raise FileNotFoundError(f\"{pickle_file} does not exist. Please ensure the file is in the correct location.\")\n",
    "\n",
    "        # Load the pickle file\n",
    "        with open(pickle_file, 'rb') as f:\n",
    "            data = pickle.load(f)\n",
    "\n",
    "        # Filter data based on the partition\n",
    "        filtered_data = [row for row in data if row.get('partition') == partition]\n",
    "\n",
    "        # Create an IterableWrapper from the filtered data\n",
    "        pipe = IterableWrapper(filtered_data)\n",
    "\n",
    "        # Shuffle, batch, and transform the data\n",
    "        pipe = pipe.shuffle().batch(batch_size).map(xform_routine)\n",
    "\n",
    "        return pipe\n"
   ]
  },
  {
   "cell_type": "code",
   "execution_count": null,
   "metadata": {},
   "outputs": [],
   "source": []
  }
 ],
 "metadata": {
  "kernelspec": {
   "display_name": "DLNN1",
   "language": "python",
   "name": "python3"
  },
  "language_info": {
   "codemirror_mode": {
    "name": "ipython",
    "version": 3
   },
   "file_extension": ".py",
   "mimetype": "text/x-python",
   "name": "python",
   "nbconvert_exporter": "python",
   "pygments_lexer": "ipython3",
   "version": "3.1.undefined"
  }
 },
 "nbformat": 4,
 "nbformat_minor": 2
}
