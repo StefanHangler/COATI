{
 "cells": [
  {
   "attachments": {},
   "cell_type": "markdown",
   "metadata": {},
   "source": [
    "Imports and setup"
   ]
  },
  {
   "cell_type": "code",
   "execution_count": 1,
   "metadata": {
    "execution": {
     "iopub.execute_input": "2023-08-15T21:50:18.939673Z",
     "iopub.status.busy": "2023-08-15T21:50:18.938861Z",
     "iopub.status.idle": "2023-08-15T21:50:24.629770Z",
     "shell.execute_reply": "2023-08-15T21:50:24.628091Z"
    }
   },
   "outputs": [],
   "source": [
    "import pickle\n",
    "import numpy as np\n",
    "from rdkit import Chem\n",
    "import rdkit.Chem.QED\n",
    "import torch\n",
    "from coati.models.io.coati import load_e3gnn_smiles_clip_e2e\n",
    "from coati.models.regression.basic_due import basic_due\n",
    "from coati.common.util import batch_indexable\n",
    "\n",
    "# set your device\n",
    "DEVICE = torch.device(\"cuda:0\")"
   ]
  },
  {
   "attachments": {},
   "cell_type": "markdown",
   "metadata": {},
   "source": [
    "Load model"
   ]
  },
  {
   "cell_type": "code",
   "execution_count": 2,
   "metadata": {
    "execution": {
     "iopub.execute_input": "2023-08-15T21:50:24.637493Z",
     "iopub.status.busy": "2023-08-15T21:50:24.636432Z",
     "iopub.status.idle": "2023-08-15T21:50:30.637662Z",
     "shell.execute_reply": "2023-08-15T21:50:30.636664Z"
    }
   },
   "outputs": [
    {
     "name": "stdout",
     "output_type": "stream",
     "text": [
      "Loading model from s3://terray-public/models/barlow_closed.pkl\n",
      "Loading tokenizer may_closedparen from s3://terray-public/models/barlow_closed.pkl\n",
      "number of parameters: 12.64M\n",
      "number of parameters Total: 2.44M xformer: 17.92M Total: 20.36M \n",
      "vocab_name not found in tokenizer_vocabs, trying to load from file\n",
      "Freezing encoder\n",
      "20561664 params frozen!\n"
     ]
    }
   ],
   "source": [
    "# Model parameters are pulled from the url and stored in a local models/ dir.\n",
    "encoder, tokenizer = load_e3gnn_smiles_clip_e2e(\n",
    "    freeze=True,\n",
    "    device=DEVICE,\n",
    "    # model parameters to load.\n",
    "    doc_url=\"s3://terray-public/models/barlow_closed.pkl\",\n",
    ")"
   ]
  },
  {
   "attachments": {},
   "cell_type": "markdown",
   "metadata": {},
   "source": [
    "Visualize tokens and likelihood"
   ]
  },
  {
   "cell_type": "code",
   "execution_count": 3,
   "metadata": {
    "execution": {
     "iopub.execute_input": "2023-08-15T21:50:30.641617Z",
     "iopub.status.busy": "2023-08-15T21:50:30.641222Z",
     "iopub.status.idle": "2023-08-15T21:50:30.654648Z",
     "shell.execute_reply": "2023-08-15T21:50:30.653609Z"
    }
   },
   "outputs": [],
   "source": [
    "def tokens_to_likelihood(\n",
    "    encoder,\n",
    "    smiles,\n",
    "    tokenizer,\n",
    "    prefix=\"[CLIP][UNK][SMILES]\",\n",
    "    emb_vector=None,\n",
    "    print_loss=False,\n",
    "):\n",
    "    \"\"\"\n",
    "    Simply computes the log likelihood for a given prefix and smiles.\n",
    "\n",
    "    The prefix can include the [CLIP] token, where [UNK] be replaced with the\n",
    "    embedding vector.\n",
    "    \"\"\"\n",
    "    tokens = tokenizer.tokenize_text(prefix + smiles + \"[STOP]\", pad=False)\n",
    "    tokens = torch.tensor(tokens, device=encoder.device, dtype=torch.long).unsqueeze(0)\n",
    "    y_next = torch.zeros_like(tokens)\n",
    "    # shift the tokens to the left by one\n",
    "    y_next[:, : (tokens.shape[1] - 1)] = tokens[:, 1:].clone()\n",
    "    # identify the tokens to ignore\n",
    "    y_next[y_next == tokenizer.clip_token] = -1\n",
    "    y_next[y_next == tokenizer.pad_token] = -1\n",
    "    y_next[y_next == tokenizer.smiles_token] = -1\n",
    "    y_next[y_next == tokenizer.unk_token] = -1\n",
    "    y_next[y_next == tokenizer.suffix_token] = -1\n",
    "    y_next[y_next == tokenizer.middle_token] = -1\n",
    "    # Get the logits from the transformer.\n",
    "    if \"[CLIP]\" in prefix:\n",
    "        # If the prefix includes [CLIP], then we replace the [UNK] token with\n",
    "        # the embedding vector.\n",
    "        logits = encoder.xformer.forward_with_replacement(\n",
    "            tokens,\n",
    "            encoder.point_clip_to_special_tokens(emb_vector.unsqueeze(0)),\n",
    "            tokenizer,\n",
    "        )\n",
    "    else:\n",
    "        # Otherwise, we just run the transformer.\n",
    "        logits = encoder.xformer.forward(tokens)\n",
    "\n",
    "    # Compute the autoregressive (AR) losses, log P(x_i|x_{j<i}), which can be\n",
    "    # found from cross_entropy.\n",
    "    # Ignore the special tokens.\n",
    "    ar_loss = torch.nn.functional.cross_entropy(\n",
    "        logits.view(-1, logits.size(-1)),\n",
    "        y_next.view(-1),\n",
    "        ignore_index=-1,\n",
    "        reduction=\"none\",\n",
    "    ).reshape(tokens.shape)\n",
    "    ar_loss[y_next == -1] = 0\n",
    "    if print_loss:\n",
    "        print(\"tokens: \", tokens.flatten().tolist())\n",
    "        print(\n",
    "            tokenizer.decode(\n",
    "                tokens.flatten().tolist(),\n",
    "                color_loss=[0] + ((ar_loss.flatten().tolist())[:-1]),\n",
    "            )\n",
    "        )\n",
    "    # log-likelihood, log P(x), is the sum over the log-conditionals.\n",
    "    return ar_loss.sum(-1)"
   ]
  },
  {
   "attachments": {},
   "cell_type": "markdown",
   "metadata": {},
   "source": [
    "In the following, low &rarr; high log-conditionals are illustrated with Blue &rarr; Red token coloring."
   ]
  },
  {
   "attachments": {},
   "cell_type": "markdown",
   "metadata": {},
   "source": [
    "We first start with conditioning our input with a smiles string embedding vector. We use the fentanyl molecule as an example."
   ]
  },
  {
   "cell_type": "code",
   "execution_count": 4,
   "metadata": {
    "execution": {
     "iopub.execute_input": "2023-08-15T21:50:30.658847Z",
     "iopub.status.busy": "2023-08-15T21:50:30.658355Z",
     "iopub.status.idle": "2023-08-15T21:50:32.549659Z",
     "shell.execute_reply": "2023-08-15T21:50:32.548329Z"
    }
   },
   "outputs": [
    {
     "name": "stdout",
     "output_type": "stream",
     "text": [
      "tokens:  [8, 7, 2, 5, 6, 3371, 4914, 6445, 1598, 8612, 1597, 1876, 1]\n",
      "\u001b[48;2;0;128;128m[CLIP]\u001b[0m\u001b[48;2;0;128;128m[UNK]\u001b[0m\u001b[48;2;0;128;128m[SMILES]\u001b[0m\u001b[48;2;0;128;128m[SUFFIX]\u001b[0m\u001b[48;2;0;128;128m[MIDDLE]\u001b[0m\u001b[48;2;13;128;128mCCC(=O)N\u001b[0m\u001b[48;2;34;128;128m(c1ccccc1)\u001b[0m\u001b[48;2;1;128;128mC1CCN\u001b[0m\u001b[48;2;0;128;128m(\u001b[0m\u001b[48;2;1;128;128mCCc2ccccc2\u001b[0m\u001b[48;2;0;128;128m)\u001b[0m\u001b[48;2;0;128;128mCC1\u001b[0m\u001b[48;2;255;128;128m[STOP]\u001b[0m\n",
      "log likelihood: 0.117\n"
     ]
    }
   ],
   "source": [
    "from coati.generative.coati_purifications import embed_smiles\n",
    "\n",
    "# get the canonical smiles for fentanyl.\n",
    "fentanyl_smiles = \"CCC(=O)N(C1CCN(CC1)CCC2=CC=CC=C2)C3=CC=CC=C3\"\n",
    "fentanyl_canonical_smiles = Chem.MolToSmiles(Chem.MolFromSmiles(fentanyl_smiles))\n",
    "\n",
    "fentanyl_vector = embed_smiles(fentanyl_canonical_smiles, encoder, tokenizer)\n",
    "\n",
    "log_likelihood = tokens_to_likelihood(\n",
    "    encoder,\n",
    "    fentanyl_canonical_smiles,\n",
    "    tokenizer,\n",
    "    prefix=\"[CLIP][UNK][SMILES][SUFFIX][MIDDLE]\",\n",
    "    emb_vector=fentanyl_vector,\n",
    "    print_loss=True,\n",
    ")\n",
    "\n",
    "print(f\"log likelihood: {log_likelihood.item():.3f}\")"
   ]
  },
  {
   "cell_type": "code",
   "execution_count": 5,
   "metadata": {
    "execution": {
     "iopub.execute_input": "2023-08-15T21:50:32.556119Z",
     "iopub.status.busy": "2023-08-15T21:50:32.555449Z",
     "iopub.status.idle": "2023-08-15T21:50:32.605930Z",
     "shell.execute_reply": "2023-08-15T21:50:32.604581Z"
    }
   },
   "outputs": [
    {
     "name": "stdout",
     "output_type": "stream",
     "text": [
      "tokens:  [8, 7, 2, 3371, 4914, 6445, 1598, 8612, 1597, 1876, 1]\n",
      "\u001b[48;2;0;128;128m[CLIP]\u001b[0m\u001b[48;2;0;128;128m[UNK]\u001b[0m\u001b[48;2;0;128;128m[SMILES]\u001b[0m\u001b[48;2;12;128;128mCCC(=O)N\u001b[0m\u001b[48;2;35;128;128m(c1ccccc1)\u001b[0m\u001b[48;2;1;128;128mC1CCN\u001b[0m\u001b[48;2;0;128;128m(\u001b[0m\u001b[48;2;2;128;128mCCc2ccccc2\u001b[0m\u001b[48;2;0;128;128m)\u001b[0m\u001b[48;2;0;128;128mCC1\u001b[0m\u001b[48;2;255;128;128m[STOP]\u001b[0m\n",
      "log likelihood: 0.127\n"
     ]
    }
   ],
   "source": [
    "log_likelihood = tokens_to_likelihood(\n",
    "    encoder,\n",
    "    fentanyl_canonical_smiles,\n",
    "    tokenizer,\n",
    "    prefix=\"[CLIP][UNK][SMILES]\",\n",
    "    emb_vector=fentanyl_vector,\n",
    "    print_loss=True,\n",
    ")\n",
    "\n",
    "print(f\"log likelihood: {log_likelihood.item():.3f}\")"
   ]
  },
  {
   "attachments": {},
   "cell_type": "markdown",
   "metadata": {},
   "source": [
    "Without conditioning, this particular smiles is much less likely."
   ]
  },
  {
   "cell_type": "code",
   "execution_count": 6,
   "metadata": {
    "execution": {
     "iopub.execute_input": "2023-08-15T21:50:32.613256Z",
     "iopub.status.busy": "2023-08-15T21:50:32.612538Z",
     "iopub.status.idle": "2023-08-15T21:50:32.650424Z",
     "shell.execute_reply": "2023-08-15T21:50:32.649573Z"
    }
   },
   "outputs": [
    {
     "name": "stdout",
     "output_type": "stream",
     "text": [
      "tokens:  [2, 3371, 4914, 6445, 1598, 8612, 1597, 1876, 1]\n",
      "\u001b[48;2;0;128;128m[SMILES]\u001b[0m\u001b[48;2;255;128;128mCCC(=O)N\u001b[0m\u001b[48;2;198;128;128m(c1ccccc1)\u001b[0m\u001b[48;2;39;128;128mC1CCN\u001b[0m\u001b[48;2;22;128;128m(\u001b[0m\u001b[48;2;168;128;128mCCc2ccccc2\u001b[0m\u001b[48;2;5;128;128m)\u001b[0m\u001b[48;2;5;128;128mCC1\u001b[0m\u001b[48;2;2;128;128m[STOP]\u001b[0m\n",
      "log likelihood: 23.376\n"
     ]
    }
   ],
   "source": [
    "# unconditioned log-likelihood. Note we do not pass in the embedding vector.\n",
    "\n",
    "log_likelihood = tokens_to_likelihood(\n",
    "    encoder, fentanyl_canonical_smiles, tokenizer, prefix=\"[SMILES]\", print_loss=True\n",
    ")\n",
    "\n",
    "print(f\"log likelihood: {log_likelihood.item():.3f}\")"
   ]
  },
  {
   "cell_type": "code",
   "execution_count": 7,
   "metadata": {
    "execution": {
     "iopub.execute_input": "2023-08-15T21:50:32.653994Z",
     "iopub.status.busy": "2023-08-15T21:50:32.653639Z",
     "iopub.status.idle": "2023-08-15T21:50:32.688954Z",
     "shell.execute_reply": "2023-08-15T21:50:32.687852Z"
    }
   },
   "outputs": [
    {
     "name": "stdout",
     "output_type": "stream",
     "text": [
      "tokens:  [2, 5, 6, 3371, 4914, 6445, 1598, 8612, 1597, 1876, 1]\n",
      "\u001b[48;2;0;128;128m[SMILES]\u001b[0m\u001b[48;2;0;128;128m[SUFFIX]\u001b[0m\u001b[48;2;0;128;128m[MIDDLE]\u001b[0m\u001b[48;2;194;128;128mCCC(=O)N\u001b[0m\u001b[48;2;255;128;128m(c1ccccc1)\u001b[0m\u001b[48;2;51;128;128mC1CCN\u001b[0m\u001b[48;2;94;128;128m(\u001b[0m\u001b[48;2;213;128;128mCCc2ccccc2\u001b[0m\u001b[48;2;2;128;128m)\u001b[0m\u001b[48;2;6;128;128mCC1\u001b[0m\u001b[48;2;2;128;128m[STOP]\u001b[0m\n",
      "log likelihood: 23.498\n"
     ]
    }
   ],
   "source": [
    "log_likelihood = tokens_to_likelihood(\n",
    "    encoder,\n",
    "    fentanyl_canonical_smiles,\n",
    "    tokenizer,\n",
    "    prefix=\"[SMILES][SUFFIX][MIDDLE]\",\n",
    "    print_loss=True,\n",
    ")\n",
    "\n",
    "print(f\"log likelihood: {log_likelihood.item():.3f}\")"
   ]
  },
  {
   "attachments": {},
   "cell_type": "markdown",
   "metadata": {},
   "source": [
    "Statistics and analysis on Chembl dataset"
   ]
  },
  {
   "cell_type": "code",
   "execution_count": 8,
   "metadata": {
    "execution": {
     "iopub.execute_input": "2023-08-15T21:50:32.693219Z",
     "iopub.status.busy": "2023-08-15T21:50:32.692727Z",
     "iopub.status.idle": "2023-08-15T21:50:34.076269Z",
     "shell.execute_reply": "2023-08-15T21:50:34.074717Z"
    }
   },
   "outputs": [],
   "source": [
    "from coati.common.s3 import cache_read\n",
    "\n",
    "# load Chembl dataset smile strings.\n",
    "with cache_read(\"s3://terray-public/datasets/chembl_canonical_smiles.pkl\", \"rb\") as f:\n",
    "    chembl_canonical_smiles = pickle.loads(f.read(), encoding=\"UTF-8\")"
   ]
  },
  {
   "attachments": {},
   "cell_type": "markdown",
   "metadata": {},
   "source": [
    "For a random subset of Chembl smiles, we compute the conditioned and unconditioned log likelihoods."
   ]
  },
  {
   "cell_type": "code",
   "execution_count": 9,
   "metadata": {
    "execution": {
     "iopub.execute_input": "2023-08-15T21:50:34.084832Z",
     "iopub.status.busy": "2023-08-15T21:50:34.082492Z",
     "iopub.status.idle": "2023-08-15T21:59:09.612758Z",
     "shell.execute_reply": "2023-08-15T21:59:09.611349Z"
    }
   },
   "outputs": [
    {
     "name": "stdout",
     "output_type": "stream",
     "text": [
      "batch: 0/50\n",
      "batch: 1/50\n",
      "batch: 2/50\n",
      "batch: 3/50\n",
      "batch: 4/50\n",
      "batch: 5/50\n",
      "batch: 6/50\n",
      "batch: 7/50\n",
      "batch: 8/50\n",
      "batch: 9/50\n",
      "batch: 10/50\n",
      "batch: 11/50\n",
      "batch: 12/50\n",
      "batch: 13/50\n",
      "batch: 14/50\n",
      "batch: 15/50\n",
      "batch: 16/50\n",
      "batch: 17/50\n",
      "batch: 18/50\n",
      "batch: 19/50\n",
      "batch: 20/50\n",
      "batch: 21/50\n",
      "batch: 22/50\n",
      "batch: 23/50\n",
      "batch: 24/50\n",
      "batch: 25/50\n",
      "batch: 26/50\n",
      "batch: 27/50\n",
      "batch: 28/50\n",
      "batch: 29/50\n",
      "batch: 30/50\n",
      "batch: 31/50\n",
      "batch: 32/50\n",
      "batch: 33/50\n",
      "batch: 34/50\n",
      "batch: 35/50\n",
      "batch: 36/50\n",
      "batch: 37/50\n",
      "batch: 38/50\n",
      "batch: 39/50\n",
      "batch: 40/50\n",
      "batch: 41/50\n",
      "batch: 42/50\n",
      "batch: 43/50\n",
      "batch: 44/50\n",
      "batch: 45/50\n",
      "batch: 46/50\n",
      "batch: 47/50\n",
      "batch: 48/50\n",
      "batch: 49/50\n"
     ]
    }
   ],
   "source": [
    "import random\n",
    "\n",
    "# note: the result in the paper used 50_000 samples.\n",
    "random.shuffle(chembl_canonical_smiles)\n",
    "subset = chembl_canonical_smiles[:5000]\n",
    "\n",
    "batch_size = 100\n",
    "conditioned_likes = []\n",
    "unconditioned_likes = []\n",
    "for i, smiles in enumerate(subset):\n",
    "    if i % batch_size == 0:\n",
    "        print(f\"batch: {i//100}/{len(subset) // batch_size}\")\n",
    "    try:\n",
    "        emb_vector = embed_smiles(smiles, encoder, tokenizer)\n",
    "        log_likelihood = tokens_to_likelihood(\n",
    "            encoder,\n",
    "            smiles,\n",
    "            tokenizer,\n",
    "            prefix=\"[CLIP][UNK][SMILES][SUFFIX][MIDDLE]\",\n",
    "            emb_vector=emb_vector,\n",
    "            print_loss=False,\n",
    "        )\n",
    "        conditioned_likes.append(log_likelihood.detach().cpu().item())\n",
    "    except Exception as Ex:\n",
    "        conditioned_likes.append(np.nan)\n",
    "\n",
    "    try:\n",
    "        log_likelihood = tokens_to_likelihood(\n",
    "            encoder,\n",
    "            smiles,\n",
    "            tokenizer,\n",
    "            prefix=\"[SMILES][SUFFIX][MIDDLE]\",\n",
    "            print_loss=False,\n",
    "        )\n",
    "        unconditioned_likes.append(log_likelihood.detach().cpu().item())\n",
    "    except Exception as Ex:\n",
    "        unconditioned_likes.append(np.nan)"
   ]
  },
  {
   "attachments": {},
   "cell_type": "markdown",
   "metadata": {},
   "source": [
    "We plot a histogram of the log-likelihoods for the conditioned and unconditioned results."
   ]
  },
  {
   "cell_type": "code",
   "execution_count": 10,
   "metadata": {
    "execution": {
     "iopub.execute_input": "2023-08-15T21:59:09.618845Z",
     "iopub.status.busy": "2023-08-15T21:59:09.618304Z",
     "iopub.status.idle": "2023-08-15T21:59:11.593053Z",
     "shell.execute_reply": "2023-08-15T21:59:11.591686Z"
    }
   },
   "outputs": [
    {
     "data": {
      "image/png": "[encoded data removed]",
      "text/plain": [
       "<Figure size 640x480 with 1 Axes>"
      ]
     },
     "metadata": {},
     "output_type": "display_data"
    }
   ],
   "source": [
    "import matplotlib\n",
    "import matplotlib.pyplot as plt\n",
    "\n",
    "SMALL_SIZE = 16\n",
    "MEDIUM_SIZE = 18\n",
    "BIGGER_SIZE = 20\n",
    "\n",
    "plt.rc(\"font\", size=SMALL_SIZE)  # controls default text sizes\n",
    "plt.rc(\"axes\", titlesize=SMALL_SIZE)  # fontsize of the axes title\n",
    "plt.rc(\"axes\", labelsize=MEDIUM_SIZE)  # fontsize of the x and y labels\n",
    "plt.rc(\"xtick\", labelsize=SMALL_SIZE)  # fontsize of the tick labels\n",
    "plt.rc(\"ytick\", labelsize=SMALL_SIZE)  # fontsize of the tick labels\n",
    "plt.rc(\"legend\", fontsize=SMALL_SIZE)  # legend fontsize\n",
    "plt.rc(\"figure\", titlesize=BIGGER_SIZE)  # fontsize of the figure title\n",
    "\n",
    "matplotlib.rc(\"font\", family=\"sans-serif\")\n",
    "matplotlib.rc(\"font\", serif=\"Helvetica Neue\")\n",
    "matplotlib.rc(\"text\", usetex=\"false\")\n",
    "\n",
    "\n",
    "plt.hist(\n",
    "    [x for x in conditioned_likes if not np.isnan(x)],\n",
    "    bins=100,\n",
    "    log=True,\n",
    "    alpha=0.5,\n",
    "    label=\"Embed=>Decode\",\n",
    ")\n",
    "plt.hist(\n",
    "    [x for x in unconditioned_likes if not np.isnan(x)],\n",
    "    bins=100,\n",
    "    log=True,\n",
    "    alpha=0.5,\n",
    "    label=\"Decode\",\n",
    ")\n",
    "plt.title(\"Log-Likelihood Dist. of CHEMBL\")\n",
    "plt.legend()\n",
    "plt.xlabel(\"Log-Likelihood\")\n",
    "plt.ylabel(\"Count\")\n",
    "plt.show()"
   ]
  },
  {
   "attachments": {},
   "cell_type": "markdown",
   "metadata": {},
   "source": [
    "Clearly, embedding the smiles vector in the prefix will yields much more likely results."
   ]
  },
  {
   "cell_type": "code",
   "execution_count": 11,
   "metadata": {
    "execution": {
     "iopub.execute_input": "2023-08-15T21:59:11.598072Z",
     "iopub.status.busy": "2023-08-15T21:59:11.597477Z",
     "iopub.status.idle": "2023-08-15T21:59:11.616614Z",
     "shell.execute_reply": "2023-08-15T21:59:11.615230Z"
    }
   },
   "outputs": [
    {
     "name": "stdout",
     "output_type": "stream",
     "text": [
      "mean conditioned log-likelihood, <decode>: 8.075\n",
      "mean unconditioned log-likelihood, <embed, decode>: 45.245\n"
     ]
    }
   ],
   "source": [
    "mean_cl = np.mean([x for x in conditioned_likes if not np.isnan(x)])\n",
    "mean_ucl = np.mean([x for x in unconditioned_likes if not np.isnan(x)])\n",
    "\n",
    "print(f\"mean conditioned log-likelihood, <decode>: {mean_cl:.3f}\")\n",
    "print(f\"mean unconditioned log-likelihood, <embed, decode>: {mean_ucl:.3f}\")"
   ]
  },
  {
   "attachments": {},
   "cell_type": "markdown",
   "metadata": {},
   "source": [
    "We can view the log-likehoods for the conditioned and unconditioned approach in the following scatter plot. Corresponding frequency histograms are shown on the x and y axes."
   ]
  },
  {
   "cell_type": "code",
   "execution_count": 12,
   "metadata": {
    "execution": {
     "iopub.execute_input": "2023-08-15T21:59:11.621600Z",
     "iopub.status.busy": "2023-08-15T21:59:11.621100Z",
     "iopub.status.idle": "2023-08-15T21:59:17.263298Z",
     "shell.execute_reply": "2023-08-15T21:59:17.261943Z"
    }
   },
   "outputs": [
    {
     "data": {
      "image/png": "[encoded data removed]",
      "text/plain": [
       "<Figure size 600x600 with 3 Axes>"
      ]
     },
     "metadata": {},
     "output_type": "display_data"
    }
   ],
   "source": [
    "import seaborn as sns\n",
    "import pandas as pd\n",
    "\n",
    "tofrm = []\n",
    "for i in range(len(unconditioned_likes)):\n",
    "    if not (np.isnan(unconditioned_likes[i]) or np.isnan(conditioned_likes[i])):\n",
    "        tofrm.append(\n",
    "            {\"embed,decode\": conditioned_likes[i], \"decode\": unconditioned_likes[i]}\n",
    "        )\n",
    "\n",
    "df = pd.DataFrame(tofrm)\n",
    "\n",
    "g = sns.jointplot(x=df[\"embed,decode\"], y=df[\"decode\"], kind=\"scatter\")\n",
    "g.ax_joint.set_xscale(\"log\")\n",
    "g.ax_joint.set_yscale(\"log\")\n",
    "g.ax_joint.annotate(\n",
    "    f\"$\\\\langle decode \\\\rangle = {mean_ucl:.3f}$\\n$\\\\langle embed,decode \\\\rangle = {mean_cl:.3f}$\",\n",
    "    xy=(0.1, 0.9),\n",
    "    xycoords=\"axes fraction\",\n",
    "    ha=\"left\",\n",
    "    va=\"center\",\n",
    "    bbox={\"boxstyle\": \"round\", \"fc\": \"powderblue\", \"ec\": \"navy\"},\n",
    ")\n",
    "g.savefig(\"chembl_likelihood.pdf\")"
   ]
  },
  {
   "attachments": {},
   "cell_type": "markdown",
   "metadata": {},
   "source": [
    "We can also condition the a particular dataset. E.g., for Chembl molecules we can use the `[chembl_mols]` token. In the following we generate some random vector embeddings which are decoded to smiles strings and collected. "
   ]
  },
  {
   "cell_type": "code",
   "execution_count": 13,
   "metadata": {
    "execution": {
     "iopub.execute_input": "2023-08-15T21:59:17.268135Z",
     "iopub.status.busy": "2023-08-15T21:59:17.267648Z",
     "iopub.status.idle": "2023-08-15T22:15:22.430163Z",
     "shell.execute_reply": "2023-08-15T22:15:22.428700Z"
    }
   },
   "outputs": [
    {
     "name": "stdout",
     "output_type": "stream",
     "text": [
      "batch: 0/10\n",
      "batch: 1/10\n",
      "batch: 2/10\n",
      "batch: 3/10\n",
      "batch: 4/10\n",
      "batch: 5/10\n",
      "batch: 6/10\n",
      "batch: 7/10\n",
      "batch: 8/10\n",
      "batch: 9/10\n"
     ]
    }
   ],
   "source": [
    "# Draw 10*1024 samples.\n",
    "# Note: 100 batches were used in the paper figure.\n",
    "num_batches = 10\n",
    "batch_size = 1024\n",
    "\n",
    "drawn = []\n",
    "for i in range(num_batches):\n",
    "    with torch.no_grad():\n",
    "        print(f\"batch: {i}/{num_batches}\")\n",
    "        drawn.extend(\n",
    "            encoder.complete_batch(\n",
    "                [\"[SET][chembl_mols][SMILES]\" for _ in range(batch_size)],\n",
    "                tokenizer,\n",
    "                # top-k sampling\n",
    "                k=10_000,\n",
    "                # inverse temperature used in softmax\n",
    "                inv_temp=1.75,\n",
    "            )\n",
    "        )"
   ]
  },
  {
   "attachments": {},
   "cell_type": "markdown",
   "metadata": {},
   "source": [
    "we filter out invalid smiles."
   ]
  },
  {
   "cell_type": "code",
   "execution_count": 14,
   "metadata": {
    "execution": {
     "iopub.execute_input": "2023-08-15T22:15:22.436594Z",
     "iopub.status.busy": "2023-08-15T22:15:22.436025Z",
     "iopub.status.idle": "2023-08-15T22:15:24.764387Z",
     "shell.execute_reply": "2023-08-15T22:15:24.762920Z"
    }
   },
   "outputs": [
    {
     "name": "stdout",
     "output_type": "stream",
     "text": [
      "fraction of drawn smiles that are valid:  0.977734375\n",
      "no. of unique valid smiles:  8820\n",
      "fraction of valid smiles that are unique:  0.8809428685577307\n"
     ]
    }
   ],
   "source": [
    "valid_drawn = []\n",
    "for d in drawn:\n",
    "    try:\n",
    "        mol = Chem.MolFromSmiles(d)\n",
    "        if not mol is None:\n",
    "            valid_drawn.append(d)\n",
    "    except Exception as Ex:\n",
    "        pass\n",
    "\n",
    "print(\n",
    "    \"fraction of drawn smiles that are valid: \", len(valid_drawn) / 1024 / num_batches\n",
    ")\n",
    "print(\"no. of unique valid smiles: \", len(set(valid_drawn)))\n",
    "print(\n",
    "    \"fraction of valid smiles that are unique: \",\n",
    "    len(set(valid_drawn)) / len(valid_drawn),\n",
    ")"
   ]
  },
  {
   "cell_type": "code",
   "execution_count": 15,
   "metadata": {
    "execution": {
     "iopub.execute_input": "2023-08-15T22:15:24.769090Z",
     "iopub.status.busy": "2023-08-15T22:15:24.768639Z",
     "iopub.status.idle": "2023-08-15T22:15:24.778674Z",
     "shell.execute_reply": "2023-08-15T22:15:24.777454Z"
    }
   },
   "outputs": [],
   "source": [
    "# Below is a helper function to compute rdkit properties from smiles string\n",
    "# batches.\n",
    "\n",
    "properties = {\n",
    "    \"mw_rdkit\": rdkit.Chem.Descriptors.ExactMolWt,\n",
    "    \"qed_rdkit\": rdkit.Chem.QED.qed,\n",
    "    \"logp_rdkit\": rdkit.Chem.Crippen.MolLogP,\n",
    "}\n",
    "\n",
    "\n",
    "def get_rdkit_props_in_batches(\n",
    "    records,\n",
    "    encoder=encoder,\n",
    "    tokenizer=tokenizer,\n",
    "    score_routine=None,\n",
    "    batch_size=128,\n",
    "    smiles_field=\"smiles\",\n",
    "):\n",
    "    \"\"\"A helper function to compute rdkit properties from smiles string\n",
    "    batches.\n",
    "    \"\"\"\n",
    "\n",
    "    print(\"Embedding and scoring iterable from smiles.\")\n",
    "    batch_iter = batch_indexable(records, batch_size)\n",
    "    num_batches = len(records) // batch_size\n",
    "    with torch.no_grad():\n",
    "        for i, batch in enumerate(batch_iter):\n",
    "            print(f\"batch: {i}/{num_batches}\")\n",
    "            if len(batch) < 2:\n",
    "                mol = Chem.MolFromSmiles(batch[0][\"smiles\"])\n",
    "                batch[0][\"mw_rdkit\"] = properties[\"mw_rdkit\"](mol)\n",
    "                batch[0][\"qed_rdkit\"] = properties[\"qed_rdkit\"](mol)\n",
    "                batch[0][\"logp_rdkit\"] = properties[\"logp_rdkit\"](mol)\n",
    "            else:\n",
    "                for r in batch:\n",
    "                    mol = Chem.MolFromSmiles(r[\"smiles\"])\n",
    "                    batch[0][\"mw_rdkit\"] = properties[\"mw_rdkit\"](mol)\n",
    "                    batch[0][\"qed_rdkit\"] = properties[\"qed_rdkit\"](mol)\n",
    "                    batch[0][\"logp_rdkit\"] = properties[\"logp_rdkit\"](mol)"
   ]
  },
  {
   "attachments": {},
   "cell_type": "markdown",
   "metadata": {},
   "source": [
    "For the generated samples and the Chembl reference samples, we compute the following properties: LogP, quantitative estimate of druglikeness (QED), and molecular weight."
   ]
  },
  {
   "cell_type": "code",
   "execution_count": 16,
   "metadata": {
    "execution": {
     "iopub.execute_input": "2023-08-15T22:15:24.782857Z",
     "iopub.status.busy": "2023-08-15T22:15:24.782432Z",
     "iopub.status.idle": "2023-08-15T22:17:02.844133Z",
     "shell.execute_reply": "2023-08-15T22:17:02.842391Z"
    }
   },
   "outputs": [
    {
     "name": "stdout",
     "output_type": "stream",
     "text": [
      "Embedding and scoring iterable from smiles.\n",
      "batch: 0/80\n",
      "batch: 1/80\n",
      "batch: 2/80\n",
      "batch: 3/80\n",
      "batch: 4/80\n",
      "batch: 5/80\n",
      "batch: 6/80\n",
      "batch: 7/80\n",
      "batch: 8/80\n",
      "batch: 9/80\n",
      "batch: 10/80\n",
      "batch: 11/80\n",
      "batch: 12/80\n",
      "batch: 13/80\n",
      "batch: 14/80\n",
      "batch: 15/80\n",
      "batch: 16/80\n",
      "batch: 17/80\n",
      "batch: 18/80\n",
      "batch: 19/80\n",
      "batch: 20/80\n",
      "batch: 21/80\n",
      "batch: 22/80\n",
      "batch: 23/80\n",
      "batch: 24/80\n",
      "batch: 25/80\n",
      "batch: 26/80\n",
      "batch: 27/80\n",
      "batch: 28/80\n",
      "batch: 29/80\n",
      "batch: 30/80\n",
      "batch: 31/80\n",
      "batch: 32/80\n",
      "batch: 33/80\n",
      "batch: 34/80\n",
      "batch: 35/80\n",
      "batch: 36/80\n",
      "batch: 37/80\n",
      "batch: 38/80\n",
      "batch: 39/80\n",
      "batch: 40/80\n",
      "batch: 41/80\n",
      "batch: 42/80\n",
      "batch: 43/80\n",
      "batch: 44/80\n",
      "batch: 45/80\n",
      "batch: 46/80\n",
      "batch: 47/80\n",
      "batch: 48/80\n",
      "batch: 49/80\n",
      "batch: 50/80\n",
      "batch: 51/80\n",
      "batch: 52/80\n",
      "batch: 53/80\n",
      "batch: 54/80\n",
      "batch: 55/80\n",
      "batch: 56/80\n",
      "batch: 57/80\n",
      "batch: 58/80\n",
      "batch: 59/80\n",
      "batch: 60/80\n",
      "batch: 61/80\n",
      "batch: 62/80\n",
      "batch: 63/80\n",
      "batch: 64/80\n",
      "batch: 65/80\n",
      "batch: 66/80\n",
      "batch: 67/80\n",
      "batch: 68/80\n",
      "batch: 69/80\n",
      "batch: 70/80\n",
      "batch: 71/80\n",
      "batch: 72/80\n",
      "batch: 73/80\n",
      "batch: 74/80\n",
      "batch: 75/80\n",
      "batch: 76/80\n",
      "batch: 77/80\n",
      "batch: 78/80\n",
      "batch: 79/80\n",
      "Embedding and scoring iterable from smiles.\n",
      "batch: 0/78\n",
      "batch: 1/78\n",
      "batch: 2/78\n",
      "batch: 3/78\n",
      "batch: 4/78\n",
      "batch: 5/78\n",
      "batch: 6/78\n",
      "batch: 7/78\n",
      "batch: 8/78\n",
      "batch: 9/78\n",
      "batch: 10/78\n",
      "batch: 11/78\n",
      "batch: 12/78\n",
      "batch: 13/78\n",
      "batch: 14/78\n",
      "batch: 15/78\n",
      "batch: 16/78\n",
      "batch: 17/78\n",
      "batch: 18/78\n",
      "batch: 19/78\n",
      "batch: 20/78\n",
      "batch: 21/78\n",
      "batch: 22/78\n",
      "batch: 23/78\n",
      "batch: 24/78\n",
      "batch: 25/78\n",
      "batch: 26/78\n",
      "batch: 27/78\n",
      "batch: 28/78\n",
      "batch: 29/78\n",
      "batch: 30/78\n",
      "batch: 31/78\n",
      "batch: 32/78\n",
      "batch: 33/78\n",
      "batch: 34/78\n",
      "batch: 35/78\n",
      "batch: 36/78\n",
      "batch: 37/78\n",
      "batch: 38/78\n",
      "batch: 39/78\n",
      "batch: 40/78\n",
      "batch: 41/78\n",
      "batch: 42/78\n",
      "batch: 43/78\n",
      "batch: 44/78\n",
      "batch: 45/78\n",
      "batch: 46/78\n",
      "batch: 47/78\n",
      "batch: 48/78\n",
      "batch: 49/78\n",
      "batch: 50/78\n",
      "batch: 51/78\n",
      "batch: 52/78\n",
      "batch: 53/78\n",
      "batch: 54/78\n",
      "batch: 55/78\n",
      "batch: 56/78\n",
      "batch: 57/78\n",
      "batch: 58/78\n",
      "batch: 59/78\n",
      "batch: 60/78\n",
      "batch: 61/78\n",
      "batch: 62/78\n",
      "batch: 63/78\n",
      "batch: 64/78\n",
      "batch: 65/78\n",
      "batch: 66/78\n",
      "batch: 67/78\n",
      "batch: 68/78\n",
      "batch: 69/78\n",
      "batch: 70/78\n",
      "batch: 71/78\n",
      "batch: 72/78\n",
      "batch: 73/78\n",
      "batch: 74/78\n",
      "batch: 75/78\n",
      "batch: 76/78\n",
      "batch: 77/78\n",
      "batch: 78/78\n"
     ]
    }
   ],
   "source": [
    "from random import shuffle\n",
    "\n",
    "shuffle(chembl_canonical_smiles)\n",
    "num_chmbl_samples = batch_size * num_batches\n",
    "\n",
    "chembl_dict = [{\"smiles\": s} for s in chembl_canonical_smiles[:num_chmbl_samples]]\n",
    "get_rdkit_props_in_batches(chembl_dict)\n",
    "model_dict = [{\"smiles\": s} for s in valid_drawn]\n",
    "get_rdkit_props_in_batches(model_dict)"
   ]
  },
  {
   "cell_type": "code",
   "execution_count": 17,
   "metadata": {
    "execution": {
     "iopub.execute_input": "2023-08-15T22:17:02.851496Z",
     "iopub.status.busy": "2023-08-15T22:17:02.850668Z",
     "iopub.status.idle": "2023-08-15T22:17:02.859361Z",
     "shell.execute_reply": "2023-08-15T22:17:02.858121Z"
    }
   },
   "outputs": [
    {
     "name": "stdout",
     "output_type": "stream",
     "text": [
      "size of chembl subdataset:  10240\n",
      "size of coati generated dataset:  10012\n"
     ]
    }
   ],
   "source": [
    "print(\"size of chembl subdataset: \", len(chembl_dict))\n",
    "print(\"size of coati generated dataset: \", len(model_dict))"
   ]
  },
  {
   "cell_type": "code",
   "execution_count": 18,
   "metadata": {
    "execution": {
     "iopub.execute_input": "2023-08-15T22:17:02.865527Z",
     "iopub.status.busy": "2023-08-15T22:17:02.864841Z",
     "iopub.status.idle": "2023-08-15T22:17:06.077818Z",
     "shell.execute_reply": "2023-08-15T22:17:06.076295Z"
    }
   },
   "outputs": [
    {
     "data": {
      "image/png": "[encoded data removed]",
      "text/plain": [
       "<Figure size 1200x800 with 3 Axes>"
      ]
     },
     "metadata": {},
     "output_type": "display_data"
    }
   ],
   "source": [
    "from matplotlib import pyplot as plt\n",
    "\n",
    "plot_style = {\n",
    "    \"font.size\": 10,\n",
    "    \"axes.titlesize\": 10,\n",
    "    \"axes.labelsize\": 10,\n",
    "    \"xtick.labelsize\": 10,\n",
    "    \"ytick.labelsize\": 10,\n",
    "    \"legend.fontsize\": 10,\n",
    "    \"figure.titlesize\": 10,\n",
    "    \"font.family\": \"sans-serif\",\n",
    "    \"font.serif\": \"Helvetica Neue\",\n",
    "    \"text.usetex\": \"false\",\n",
    "}\n",
    "with matplotlib.rc_context(plot_style):\n",
    "    fig, ((ax0, ax1, ax2)) = plt.subplots(nrows=1, ncols=3, figsize=(6, 4), dpi=200)\n",
    "\n",
    "    bins0 = np.linspace(0, 1, 30)\n",
    "    _ = ax0.hist(\n",
    "        [row[\"qed_rdkit\"] for row in chembl_dict if \"qed_rdkit\" in row],\n",
    "        bins=bins0,\n",
    "        alpha=0.5,\n",
    "        label=\"chembl\",\n",
    "    )\n",
    "    _ = ax0.hist(\n",
    "        [row[\"qed_rdkit\"] for row in model_dict if \"qed_rdkit\" in row],\n",
    "        bins=bins0,\n",
    "        alpha=0.5,\n",
    "        label=\"coati\",\n",
    "    )\n",
    "    ax0.set_xlabel(\"QED\")\n",
    "    ax0.set_ylabel(\"counts\")\n",
    "    # ax0.legend()\n",
    "\n",
    "    bins = np.linspace(-8, 13, 30)\n",
    "    _ = ax1.hist(\n",
    "        [row[\"logp_rdkit\"] for row in chembl_dict if \"logp_rdkit\" in row],\n",
    "        bins=bins,\n",
    "        alpha=0.5,\n",
    "        label=\"chembl\",\n",
    "    )\n",
    "    _ = ax1.hist(\n",
    "        [row[\"logp_rdkit\"] for row in model_dict if \"logp_rdkit\" in row],\n",
    "        bins=bins,\n",
    "        alpha=0.5,\n",
    "        label=\"coati\",\n",
    "    )\n",
    "    ax1.set_xlabel(\"logp rdkit\")\n",
    "    ax1.set_ylabel(\"counts\")\n",
    "    # ax1.legend()\n",
    "\n",
    "    bins2 = np.linspace(0, 1500, 30)\n",
    "\n",
    "    _ = ax2.hist(\n",
    "        [row[\"mw_rdkit\"] for row in chembl_dict if \"mw_rdkit\" in row],\n",
    "        bins=bins2,\n",
    "        alpha=0.5,\n",
    "        label=\"chembl\",\n",
    "    )\n",
    "    _ = ax2.hist(\n",
    "        [row[\"mw_rdkit\"] for row in model_dict if \"mw_rdkit\" in row],\n",
    "        bins=bins2,\n",
    "        alpha=0.5,\n",
    "        label=\"coati\",\n",
    "    )\n",
    "    ax2.set_xlabel(\"Molecular Weight\")\n",
    "    ax2.set_ylabel(\"counts\")\n",
    "    ax2.legend()\n",
    "\n",
    "    plt.tight_layout()\n",
    "    plt.savefig(\"distributions.pdf\", bbox_inches=\"tight\")"
   ]
  }
 ],
 "metadata": {
  "kernelspec": {
   "display_name": ".venv",
   "language": "python",
   "name": "python3"
  },
  "language_info": {
   "codemirror_mode": {
    "name": "ipython",
    "version": 3
   },
   "file_extension": ".py",
   "mimetype": "text/x-python",
   "name": "python",
   "nbconvert_exporter": "python",
   "pygments_lexer": "ipython3",
   "version": "3.8.10"
  }
 },
 "nbformat": 4,
 "nbformat_minor": 2
}
