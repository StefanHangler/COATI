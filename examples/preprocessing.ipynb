{
 "cells": [
  {
   "cell_type": "code",
   "execution_count": 7,
   "metadata": {},
   "outputs": [],
   "source": [
    "import numpy as np\n",
    "import pandas as pd\n",
    "from rdkit import Chem\n",
    "from rdkit.Chem.AllChem import EmbedMolecule, EmbedMultipleConfs, MMFFOptimizeMoleculeConfs\n",
    "import pickle\n",
    "from tqdm import tqdm"
   ]
  },
  {
   "cell_type": "code",
   "execution_count": 12,
   "metadata": {},
   "outputs": [],
   "source": [
    "def mol_to_morgan(mol, radius=3, n_bits=2048, chiral=False, features=False):\n",
    "    from rdkit.Chem.AllChem import GetMorganFingerprintAsBitVect\n",
    "    return np.frombuffer(\n",
    "        GetMorganFingerprintAsBitVect(\n",
    "            mol, radius=radius, nBits=n_bits, useChirality=chiral, useFeatures=features\n",
    "        ).ToBitString().encode(), \"u1\") - ord(\"0\")\n",
    "\n",
    "def mol_to_atoms_coords(\n",
    "    m, hydrogenate=True, adj_matrix=False, do_morgan=False, optimize=False, numConfs=1, numThreads=1\n",
    "):\n",
    "    # Check if m is a string, and if so, convert it to an RDKit molecule object\n",
    "    if isinstance(m, str):\n",
    "        m = Chem.MolFromSmiles(m)\n",
    "        if m is None:\n",
    "            return None  # Could not parse the SMILES string into a molecule\n",
    "\n",
    "    m3 = Chem.AddHs(m) if hydrogenate else m\n",
    "    if optimize and hydrogenate:\n",
    "        try:\n",
    "            EmbedMultipleConfs(\n",
    "                m3, numConfs=numConfs, pruneRmsThresh=0.125, randomSeed=0xF00D, numThreads=numThreads\n",
    "            )\n",
    "            opt = MMFFOptimizeMoleculeConfs(m3, mmffVariant=\"MMFF94s\", numThreads=numThreads)\n",
    "            opt = np.array(opt)\n",
    "            converged = opt[:, 0] == 0\n",
    "            if converged.any():\n",
    "                lowest_eng_conformer = np.argmin(opt[converged][:, 1])\n",
    "                lowest_energy = opt[converged][lowest_eng_conformer, 1]\n",
    "                best_conf = np.arange(opt.shape[0])[converged][lowest_eng_conformer]\n",
    "                c0 = m3.GetConformer(id=int(best_conf))\n",
    "            else:\n",
    "                # Fallback in case optimization did not converge\n",
    "                c0 = m3.GetConformer()\n",
    "                lowest_energy = None\n",
    "        except Exception as Ex:\n",
    "            # Fallback in case of an exception during embedding or optimization\n",
    "            EmbedMolecule(m3, randomSeed=0xF00D)\n",
    "            c0 = m3.GetConformers()[-1]\n",
    "            lowest_energy = None\n",
    "    else:\n",
    "        EmbedMolecule(m3, randomSeed=0xF00D)\n",
    "        c0 = m3.GetConformers()[-1]\n",
    "\n",
    "    coords = c0.GetPositions()\n",
    "    atoms = np.array([atom.GetAtomicNum() for atom in m3.GetAtoms()], dtype=np.uint8)\n",
    "\n",
    "    to_return = [atoms, coords]\n",
    "\n",
    "    if adj_matrix:\n",
    "        to_return.append(Chem.GetAdjacencyMatrix(m3))\n",
    "\n",
    "    if do_morgan:\n",
    "        to_return.append(mol_to_morgan(m, radius=3, n_bits=2048, chiral=False))\n",
    "\n",
    "    if optimize:\n",
    "        to_return.append(lowest_energy)\n",
    "\n",
    "    return tuple(to_return)"
   ]
  },
  {
   "cell_type": "code",
   "execution_count": 9,
   "metadata": {},
   "outputs": [],
   "source": [
    "# Load the SMILES data\n",
    "# Replace 'path_to_your_smiles_data.smiles' with the actual path to your downloaded SMILES file\n",
    "df_train = pd.read_csv('train_guacamol.smiles', header=None, names=['smiles'])\n",
    "df_valid = pd.read_csv('valid_guacamol.smiles', header=None, names=['smiles'])\n",
    "df_test = pd.read_csv('test_guacamol.smiles', header=None, names=['smiles'])"
   ]
  },
  {
   "cell_type": "code",
   "execution_count": 14,
   "metadata": {},
   "outputs": [
    {
     "name": "stderr",
     "output_type": "stream",
     "text": [
      " 62%|██████▏   | 794630/1273104 [18:36:15<32:00:26,  4.15it/s]"
     ]
    },
    {
     "name": "stdout",
     "output_type": "stream",
     "text": [
      "Failed to process CCCCCCCCCCCCCC(=O)NC(COC1OC(CO)C(O)C(O)C1O)C(O)CCCCCCCCCCCCC: 'NoneType' object has no attribute 'GetPositions'\n"
     ]
    },
    {
     "name": "stderr",
     "output_type": "stream",
     "text": [
      " 62%|██████▏   | 794825/1273104 [18:36:38<12:58:07, 10.24it/s][11:05:11] UFFTYPER: Unrecognized charge state for atom: 10\n",
      " 62%|██████▏   | 794830/1273104 [18:36:38<14:50:53,  8.95it/s]"
     ]
    },
    {
     "name": "stdout",
     "output_type": "stream",
     "text": [
      "Failed to process CCCCCCCCCCCCCCCC(=O)OCC(COP(=O)(O)OC1C(O)C(O)C(O)C(F)C1O)OC(=O)CCCCCCCCCCCCCCC: 'NoneType' object has no attribute 'GetPositions'\n"
     ]
    },
    {
     "name": "stderr",
     "output_type": "stream",
     "text": [
      " 62%|██████▏   | 795235/1273104 [18:37:19<14:38:57,  9.06it/s]"
     ]
    },
    {
     "name": "stdout",
     "output_type": "stream",
     "text": [
      "Failed to process CC(=O)N(C(=O)C=Cc1ccccc1)C(Cc1ccc(F)cc1)C(=O)NC(CCCCN=C(N)N)C(=O)NC(CC(C)C)C(=O)NC(CCCN=C(N)N)C(N)=O: 'NoneType' object has no attribute 'GetPositions'\n"
     ]
    },
    {
     "name": "stderr",
     "output_type": "stream",
     "text": [
      " 62%|██████▏   | 795440/1273104 [18:37:37<7:27:35, 17.79it/s] [11:06:10] UFFTYPER: Unrecognized charge state for atom: 20\n",
      " 62%|██████▏   | 795448/1273104 [18:37:38<12:52:22, 10.31it/s][11:06:11] UFFTYPER: Warning: hybridization set to SP3 for atom 11\n",
      " 62%|██████▏   | 795515/1273104 [18:37:44<18:53:52,  7.02it/s][11:06:17] UFFTYPER: Unrecognized charge state for atom: 6\n",
      " 62%|██████▏   | 795571/1273104 [18:37:49<11:03:51, 11.99it/s][11:06:22] UFFTYPER: Unrecognized charge state for atom: 8\n",
      " 63%|██████▎   | 796011/1273104 [18:38:39<18:57:27,  6.99it/s]"
     ]
    },
    {
     "name": "stdout",
     "output_type": "stream",
     "text": [
      "Failed to process C=CC1CC1(NC(=O)C1CC(OC)(c2ccc(-c3ccccn3)cc2)CN1C(=O)C(NC(=O)OC1CCCC1)C(C)(C)C)C(=O)NS(=O)(=O)C1CC1: 'NoneType' object has no attribute 'GetPositions'\n"
     ]
    },
    {
     "name": "stderr",
     "output_type": "stream",
     "text": [
      " 63%|██████▎   | 796240/1273104 [18:39:04<17:16:30,  7.67it/s][11:07:37] UFFTYPER: Unrecognized charge state for atom: 1\n",
      " 63%|██████▎   | 796311/1273104 [18:39:12<13:06:00, 10.11it/s]"
     ]
    },
    {
     "name": "stdout",
     "output_type": "stream",
     "text": [
      "Failed to process COC(=O)C(CCCCNC(=O)OC(C)(C)C)N(C=CCc1cccc(Oc2ccc(C(C)(C)C)cc2)c1)Cc1cccc(OCc2ccccc2)c1: 'NoneType' object has no attribute 'GetPositions'\n"
     ]
    },
    {
     "name": "stderr",
     "output_type": "stream",
     "text": [
      " 63%|██████▎   | 796372/1273104 [18:39:21<25:07:02,  5.27it/s][11:07:54] UFFTYPER: Unrecognized charge state for atom: 2\n",
      " 63%|██████▎   | 796823/1273104 [18:40:14<24:42:58,  5.35it/s][11:08:47] UFFTYPER: Unrecognized charge state for atom: 19\n",
      " 63%|██████▎   | 796889/1273104 [18:40:20<13:50:20,  9.56it/s][11:08:53] UFFTYPER: Unrecognized charge state for atom: 1\n",
      " 63%|██████▎   | 797018/1273104 [18:40:34<17:30:03,  7.56it/s][11:09:07] UFFTYPER: Unrecognized charge state for atom: 14\n",
      " 63%|██████▎   | 797139/1273104 [18:40:48<12:53:41, 10.25it/s][11:09:21] UFFTYPER: Unrecognized charge state for atom: 4\n",
      " 63%|██████▎   | 797477/1273104 [18:41:19<9:05:36, 14.53it/s] [11:09:51] UFFTYPER: Unrecognized atom type: S_6+6 (15)\n",
      " 63%|██████▎   | 797486/1273104 [18:41:19<9:53:46, 13.35it/s]"
     ]
    },
    {
     "name": "stdout",
     "output_type": "stream",
     "text": [
      "Failed to process CC(=O)NC(Cc1ccc2ccccc2c1)C(=O)NC(CCCCNC(=O)c1ccccn1)C(=O)NC(CCCN=C(N)N)C(=O)N1CCCC1C(N)=O: 'NoneType' object has no attribute 'GetPositions'\n"
     ]
    },
    {
     "name": "stderr",
     "output_type": "stream",
     "text": [
      " 63%|██████▎   | 797646/1273104 [18:41:33<10:32:02, 12.54it/s][11:10:06] UFFTYPER: Unrecognized atom type: S_6+6 (15)\n",
      " 63%|██████▎   | 798794/1273104 [18:43:32<12:51:58, 10.24it/s][11:12:05] UFFTYPER: Unrecognized atom type: S_6+6 (16)\n",
      " 63%|██████▎   | 799107/1273104 [18:44:02<15:13:16,  8.65it/s]"
     ]
    },
    {
     "name": "stdout",
     "output_type": "stream",
     "text": [
      "Failed to process CCCC=CCC=CCCC(=O)OC(COC(=O)CCCCCCCCCCCCC)C(O)C(CO)NC(=O)CCCCCCCCCCC: 'NoneType' object has no attribute 'GetPositions'\n"
     ]
    },
    {
     "name": "stderr",
     "output_type": "stream",
     "text": [
      " 63%|██████▎   | 799144/1273104 [18:44:06<13:11:08,  9.98it/s][11:12:39] UFFTYPER: Unrecognized charge state for atom: 5\n",
      " 63%|██████▎   | 799146/1273104 [18:44:06<14:25:19,  9.13it/s][11:12:39] UFFTYPER: Unrecognized charge state for atom: 15\n",
      " 63%|██████▎   | 799269/1273104 [18:44:20<12:28:18, 10.55it/s][11:12:52] UFFTYPER: Unrecognized charge state for atom: 8\n",
      " 63%|██████▎   | 799299/1273104 [18:44:23<17:13:30,  7.64it/s]"
     ]
    },
    {
     "name": "stdout",
     "output_type": "stream",
     "text": [
      "Failed to process CCC=CCC=CCC=CCCCCCCCC(=O)OCC(COC1OC(COC2OC(CO)C(O)C(O)C2O)C(O)C(O)C1O)OC(=O)CCCCCCCC=CCCCCCCCC: 'NoneType' object has no attribute 'GetPositions'\n"
     ]
    },
    {
     "name": "stderr",
     "output_type": "stream",
     "text": [
      " 63%|██████▎   | 799399/1273104 [18:44:33<14:41:03,  8.96it/s][11:13:06] UFFTYPER: Unrecognized charge state for atom: 6\n",
      " 63%|██████▎   | 799501/1273104 [18:44:43<11:46:44, 11.17it/s][11:13:16] UFFTYPER: Unrecognized charge state for atom: 6\n",
      " 63%|██████▎   | 799664/1273104 [18:44:57<11:56:14, 11.02it/s][11:13:30] UFFTYPER: Unrecognized charge state for atom: 8\n",
      " 63%|██████▎   | 800049/1273104 [18:45:29<7:32:55, 17.41it/s] [11:14:02] UFFTYPER: Unrecognized atom type: Se2+2 (6)\n",
      "[11:14:02] UFFTYPER: Unrecognized atom type: Se2+2 (6)\n",
      " 63%|██████▎   | 800070/1273104 [18:45:31<7:55:12, 16.59it/s] [11:14:04] UFFTYPER: Unrecognized atom type: Se2+2 (8)\n",
      "[11:14:04] UFFTYPER: Unrecognized atom type: Se2+2 (8)\n",
      " 63%|██████▎   | 800497/1273104 [18:46:07<8:33:00, 15.35it/s] [11:14:40] UFFTYPER: Unrecognized charge state for atom: 24\n",
      "[11:14:40] UFFTYPER: Unrecognized atom type: Se2+2 (24)\n",
      " 63%|██████▎   | 800628/1273104 [18:46:19<12:58:54, 10.11it/s][11:14:52] UFFTYPER: Unrecognized charge state for atom: 8\n",
      " 63%|██████▎   | 800800/1273104 [18:46:35<10:27:15, 12.55it/s][11:15:08] UFFTYPER: Unrecognized charge state for atom: 27\n",
      " 63%|██████▎   | 800860/1273104 [18:46:40<9:01:28, 14.54it/s] [11:15:13] UFFTYPER: Unrecognized charge state for atom: 16\n",
      " 63%|██████▎   | 801147/1273104 [18:47:08<10:47:52, 12.14it/s]"
     ]
    },
    {
     "name": "stdout",
     "output_type": "stream",
     "text": [
      "Failed to process CC(C)CC(=O)OCC1(OC2OC(CO)C(O)C(O)C2OC(=O)CC(C)C)OC(OC(=O)CC(C)C)C(OC(=O)CC(C)C)C1OC(=O)CC(C)C: 'NoneType' object has no attribute 'GetPositions'\n"
     ]
    },
    {
     "name": "stderr",
     "output_type": "stream",
     "text": [
      " 63%|██████▎   | 802050/1273104 [18:48:25<10:25:20, 12.55it/s][11:16:58] UFFTYPER: Unrecognized charge state for atom: 8\n",
      " 63%|██████▎   | 802065/1273104 [18:48:26<9:38:14, 13.58it/s] [11:16:59] UFFTYPER: Unrecognized charge state for atom: 9\n",
      " 63%|██████▎   | 802298/1273104 [18:48:45<10:31:31, 12.43it/s][11:17:18] UFFTYPER: Unrecognized charge state for atom: 8\n",
      " 63%|██████▎   | 802478/1273104 [18:49:02<10:11:32, 12.83it/s][11:17:35] UFFTYPER: Unrecognized charge state for atom: 8\n",
      " 63%|██████▎   | 802776/1273104 [18:49:42<15:58:16,  8.18it/s]"
     ]
    },
    {
     "name": "stdout",
     "output_type": "stream",
     "text": [
      "Failed to process Nc1nc(N)c(C(=O)NC2CCC[N+](CCCc3ccc(OCC(=O)NCCc4ccccn4)cc3)(CCCc3ccc(OCC(=O)NCCc4ccccn4)cc3)C2)nc1Cl: 'NoneType' object has no attribute 'GetPositions'\n"
     ]
    },
    {
     "name": "stderr",
     "output_type": "stream",
     "text": [
      " 63%|██████▎   | 803202/1273104 [18:50:24<15:32:26,  8.40it/s]"
     ]
    }
   ],
   "source": [
    "# Preprocess the SMILES data\n",
    "def preprocess_smiles_data(smiles_data):\n",
    "    preprocessed_data = []\n",
    "    for smi in tqdm(smiles_data):\n",
    "        try:\n",
    "            atoms, coords = mol_to_atoms_coords(smi)\n",
    "            preprocessed_data.append({\n",
    "                'smiles': smi,\n",
    "                'atoms': atoms,\n",
    "                'coords': coords\n",
    "            })\n",
    "        except Exception as e:\n",
    "            print(f\"Failed to process {smi}: {str(e)}\")\n",
    "\n",
    "    return preprocessed_data\n",
    "\n",
    "# Save the preprocessed data to a pickle file\n",
    "with open('train_guacamol.pkl', 'wb') as f:\n",
    "    pickle.dump(preprocess_smiles_data(df_train['smiles']), f)\n",
    "\n",
    "with open('valid_guacamol.pkl', 'wb') as f:\n",
    "    pickle.dump(preprocess_smiles_data(df_valid['smiles']), f)\n",
    "\n",
    "with open('test_guacamol.pkl', 'wb') as f:\n",
    "    pickle.dump(preprocess_smiles_data(df_test['smiles']), f)"
   ]
  },
  {
   "cell_type": "code",
   "execution_count": null,
   "metadata": {},
   "outputs": [],
   "source": [
    "# Convert the lists of dictionaries to DataFrames and save as CSV files\n",
    "def save_as_csv(preprocessed_data, filename):\n",
    "    df = pd.DataFrame(preprocessed_data)\n",
    "    # If 'coords' and 'atoms' are lists, they will be saved as strings in the CSV. You might need to parse them when reading.\n",
    "    df.to_csv(filename, index=False)\n",
    "\n",
    "save_as_csv(preprocessed_train, 'train_guacamol.csv')\n",
    "save_as_csv(preprocessed_valid, 'valid_guacamol.csv')\n",
    "save_as_csv(preprocessed_test, 'test_guacamol.csv')"
   ]
  }
 ],
 "metadata": {
  "kernelspec": {
   "display_name": "molGen_master",
   "language": "python",
   "name": "python3"
  },
  "language_info": {
   "codemirror_mode": {
    "name": "ipython",
    "version": 3
   },
   "file_extension": ".py",
   "mimetype": "text/x-python",
   "name": "python",
   "nbconvert_exporter": "python",
   "pygments_lexer": "ipython3",
   "version": "3.9.18"
  }
 },
 "nbformat": 4,
 "nbformat_minor": 2
}
